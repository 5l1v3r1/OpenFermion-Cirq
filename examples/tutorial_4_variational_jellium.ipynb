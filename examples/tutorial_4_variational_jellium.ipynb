{
 "cells": [
  {
   "cell_type": "markdown",
   "metadata": {},
   "source": [
    "# Tutorial IV: Constructing variational algorithms"
   ]
  },
  {
   "cell_type": "markdown",
   "metadata": {},
   "source": [
    "Variational quantum algorithms are a broad set of methods which involve optimizing a parameterized quantum circuit applied to some initial state (called the \"reference\") in order to minimize a cost function defined with respect to the output state (called the \"ansatz\"). In the context of quantum simulation, very often the goal is to prepare ground states and the cost function is the expectation value of a Hamiltonian. Thus, if we define the reference (initial state) as $\\lvert \\psi\\rangle$, the Hamiltonian as $H$ and the parameterized quantum circuit as $U(\\vec{\\theta})$ where $\\vec{\\theta}$ are the varaitional parameters, then the goal is to minimize the cost function\n",
    "$$\n",
    "E(\\vec \\theta) =  \\langle \\psi \\rvert\n",
    "U^\\dagger(\\vec{\\theta}) H U(\\vec{\\theta})\n",
    "\\lvert \\psi\\rangle.\n",
    "$$\n",
    "A classical optimization algorithm can be used to find the $\\vec{\\theta}$ that minimizes the value of the expression. The performance of a variational algorithm depends crucially on the choice of ansatz circuit $U(\\vec{\\theta})$, the choice of reference, and the strategy for choosing the initial parameters $\\vec{\\theta}$ since typically global optimizing is challenging and one needs to begin reasonably close to the intended state. One possibility is to use an ansatz of the form\n",
    "$$\n",
    "U(\\vec{\\theta}) = \\prod_j \\exp(-i \\theta_j H_j)\n",
    "$$\n",
    "where the $H = \\sum_j H_j$. This ansatz is inspired by a low Trotter-number Trotter-Suzuki based approximation to adiabatic state preparation. OpenFermion-Cirq contains routines for constructing ansatzes of this form which use as templates the Trotter step algorithms implemented in the `trotter` module.\n",
    "\n",
    "In this tutorial we will demonstrate the construction and optimization of a variational ansatz for a jellium Hamiltonian. We will use an ansatz based on the `LINEAR_SWAP_NETWORK` Trotter step, which takes as input a DiagonalCoulombHamiltonian."
   ]
  },
  {
   "cell_type": "code",
   "execution_count": 1,
   "metadata": {
    "scrolled": false
   },
   "outputs": [
    {
     "name": "stdout",
     "output_type": "stream",
     "text": [
      "The ground energy of the jellium Hamiltonian at 2 electrons is -0.2697672439172564\n",
      "Created a variational ansatz with the following circuit:\n",
      "0    1         2      3\n",
      "│    │         │      │\n",
      "XXYY─XXYY^T0_1 XXYY───XXYY^T2_3\n",
      "│    │         │      │\n",
      "@────@^V0_1    @──────@^V2_3\n",
      "│    │         │      │\n",
      "×ᶠ───×ᶠ        ×ᶠ─────×ᶠ\n",
      "│    │         │      │\n",
      "│    @─────────@^V0_3 │\n",
      "│    │         │      │\n",
      "│    ×ᶠ────────×ᶠ     │\n",
      "│    │         │      │\n",
      "XXYY─XXYY^T1_3 XXYY───XXYY^T0_2\n",
      "│    │         │      │\n",
      "@────@^V1_3    @──────@^V0_2\n",
      "│    │         │      │\n",
      "×ᶠ───×ᶠ        ×ᶠ─────×ᶠ\n",
      "│    │         │      │\n",
      "Z^U3 @─────────@^V1_2 Z^U0\n",
      "│    │         │      │\n",
      "│    ×ᶠ────────×ᶠ     │\n",
      "│    │         │      │\n",
      "│    Z^U2      Z^U1   │\n",
      "│    │         │      │\n",
      "│    @─────────@^V1_2 │\n",
      "│    │         │      │\n",
      "│    ×ᶠ────────×ᶠ     │\n",
      "│    │         │      │\n",
      "@────@^V1_3    @──────@^V0_2\n",
      "│    │         │      │\n",
      "XXYY─XXYY^T1_3 XXYY───XXYY^T0_2\n",
      "│    │         │      │\n",
      "×ᶠ───×ᶠ        ×ᶠ─────×ᶠ\n",
      "│    │         │      │\n",
      "│    @─────────@^V0_3 │\n",
      "│    │         │      │\n",
      "│    ×ᶠ────────×ᶠ     │\n",
      "│    │         │      │\n",
      "@────@^V0_1    @──────@^V2_3\n",
      "│    │         │      │\n",
      "XXYY─XXYY^T0_1 XXYY───XXYY^T2_3\n",
      "│    │         │      │\n",
      "×ᶠ───×ᶠ        ×ᶠ─────×ᶠ\n",
      "│    │         │      │\n",
      "\n"
     ]
    }
   ],
   "source": [
    "import openfermion\n",
    "import openfermioncirq\n",
    "\n",
    "# Set parameters of jellium model.\n",
    "wigner_seitz_radius = 5. # Radius per electron in Bohr radii.\n",
    "n_dimensions = 2 # Number of spatial dimensions.\n",
    "grid_length = 2 # Number of grid points in each dimension.\n",
    "spinless = True # Whether to include spin degree of freedom or not.\n",
    "n_electrons = 2 # Number of electrons.\n",
    "\n",
    "# Figure out length scale based on Wigner-Seitz radius and construct a basis grid.\n",
    "length_scale = openfermion.hamiltonians.wigner_seitz_length_scale(\n",
    "    wigner_seitz_radius, n_electrons, n_dimensions)\n",
    "grid = openfermion.Grid(n_dimensions, grid_length, length_scale)\n",
    "\n",
    "# Initialize the model and compute its ground energy in the correct particle number manifold\n",
    "fermion_hamiltonian = openfermion.jellium_model(grid, spinless=spinless, plane_wave=False)\n",
    "hamiltonian_sparse = openfermion.get_sparse_operator(fermion_hamiltonian)\n",
    "ground_energy, _ = openfermion.jw_get_ground_state_at_particle_number(\n",
    "    hamiltonian_sparse, n_electrons)\n",
    "print('The ground energy of the jellium Hamiltonian at {} electrons is {}'.format(\n",
    "    n_electrons, ground_energy))\n",
    "\n",
    "# Convert to DiagonalCoulombHamiltonian type.\n",
    "hamiltonian = openfermion.get_diagonal_coulomb_hamiltonian(fermion_hamiltonian)\n",
    "\n",
    "# Create a swap network Trotter ansatz.\n",
    "iterations = 1  # This is the number of Trotter steps to use in the ansatz.\n",
    "ansatz = openfermioncirq.SwapNetworkTrotterAnsatz(\n",
    "    hamiltonian,\n",
    "    iterations=iterations)\n",
    "\n",
    "print('Created a variational ansatz with the following circuit:')\n",
    "print(ansatz.circuit.to_text_diagram(transpose=True))"
   ]
  },
  {
   "cell_type": "markdown",
   "metadata": {},
   "source": [
    "In the last lines above we instantiated a class called `SwapNetworkTrotterAnsatz` which inherits from the general `VariationalAnsatz` class in OpenFermion-Cirq. A VariationalAnsatz is essentially a parameterized circuit that one constructs so that parameters can be supplied symbolically. This way one does not (necessarily) need to recompile the circuit each time the variational parameters change.\n",
    "\n",
    "Optimizing an ansatz requires the creation of a VariationalStudy object. A VariationalStudy encapsulates the evaluation of the objective function and stores the results of optimizations. It also includes an optional state preparation circuit to be applied prior to the ansatz circuit. For this example, we will prepare the initial state as an eigenstate of the one-body operator of the Hamiltonian. Since the one-body operator is a quadratic Hamiltonian, its eigenstates can be prepared using the `prepare_gaussian_state` method. We will use the HamiltonianVariationalStudy class, which stores a Hamiltonian and evaluates parameters by simulating the corresponding quantum circuit and computing the expectation value of the Hamiltonian on the final state. The SwapNetworkTrotterAnsatz class also includes a default setting of parameters which is inspired by the idea of state preparation by adiabatic evolution the mean-field state."
   ]
  },
  {
   "cell_type": "code",
   "execution_count": 2,
   "metadata": {
    "scrolled": false
   },
   "outputs": [
    {
     "name": "stdout",
     "output_type": "stream",
     "text": [
      "Created a variational study with 4 qubits and 14 parameters\n",
      "The value of the objective with default initial parameters is -0.19655859607069062\n",
      "The circuit of the study is\n",
      "0    1         2          3\n",
      "│    │         │          │\n",
      "X    X         │          │\n",
      "│    │         │          │\n",
      "│    YXXY──────#2^0.995   │\n",
      "│    │         │          │\n",
      "YXXY─#2^-0.502 Z^0.0      │\n",
      "│    │         │          │\n",
      "│    Z^0.0     YXXY───────#2^-0.498\n",
      "│    │         │          │\n",
      "│    YXXY──────#2^0.00482 Z^0.0\n",
      "│    │         │          │\n",
      "│    │         Z^0.0      │\n",
      "│    │         │          │\n",
      "XXYY─XXYY^T0_1 XXYY───────XXYY^T2_3\n",
      "│    │         │          │\n",
      "@────@^V0_1    @──────────@^V2_3\n",
      "│    │         │          │\n",
      "×ᶠ───×ᶠ        ×ᶠ─────────×ᶠ\n",
      "│    │         │          │\n",
      "│    @─────────@^V0_3     │\n",
      "│    │         │          │\n",
      "│    ×ᶠ────────×ᶠ         │\n",
      "│    │         │          │\n",
      "XXYY─XXYY^T1_3 XXYY───────XXYY^T0_2\n",
      "│    │         │          │\n",
      "@────@^V1_3    @──────────@^V0_2\n",
      "│    │         │          │\n",
      "×ᶠ───×ᶠ        ×ᶠ─────────×ᶠ\n",
      "│    │         │          │\n",
      "Z^U3 @─────────@^V1_2     Z^U0\n",
      "│    │         │          │\n",
      "│    ×ᶠ────────×ᶠ         │\n",
      "│    │         │          │\n",
      "│    Z^U2      Z^U1       │\n",
      "│    │         │          │\n",
      "│    @─────────@^V1_2     │\n",
      "│    │         │          │\n",
      "│    ×ᶠ────────×ᶠ         │\n",
      "│    │         │          │\n",
      "@────@^V1_3    @──────────@^V0_2\n",
      "│    │         │          │\n",
      "XXYY─XXYY^T1_3 XXYY───────XXYY^T0_2\n",
      "│    │         │          │\n",
      "×ᶠ───×ᶠ        ×ᶠ─────────×ᶠ\n",
      "│    │         │          │\n",
      "│    @─────────@^V0_3     │\n",
      "│    │         │          │\n",
      "│    ×ᶠ────────×ᶠ         │\n",
      "│    │         │          │\n",
      "@────@^V0_1    @──────────@^V2_3\n",
      "│    │         │          │\n",
      "XXYY─XXYY^T0_1 XXYY───────XXYY^T2_3\n",
      "│    │         │          │\n",
      "×ᶠ───×ᶠ        ×ᶠ─────────×ᶠ\n",
      "│    │         │          │\n",
      "\n"
     ]
    }
   ],
   "source": [
    "# Use preparation circuit for mean-field state\n",
    "import cirq\n",
    "preparation_circuit = cirq.Circuit.from_ops(\n",
    "    openfermioncirq.prepare_gaussian_state(\n",
    "        ansatz.qubits,\n",
    "        openfermion.QuadraticHamiltonian(hamiltonian.one_body),\n",
    "        occupied_orbitals=range(n_electrons)))\n",
    "\n",
    "# Create a Hamiltonian variational study\n",
    "study = openfermioncirq.HamiltonianVariationalStudy(\n",
    "    'jellium_study',\n",
    "    ansatz,\n",
    "    hamiltonian=hamiltonian,\n",
    "    preparation_circuit=preparation_circuit)\n",
    "\n",
    "print(\"Created a variational study with {} qubits and {} parameters\".format(\n",
    "    len(study.ansatz.qubits), study.num_params))\n",
    "print(\"The value of the objective with default initial parameters is {}\".format(\n",
    "    study.evaluate(study.default_initial_params())))\n",
    "print(\"The circuit of the study is\")\n",
    "print(study.circuit.to_text_diagram(transpose=True))"
   ]
  },
  {
   "cell_type": "markdown",
   "metadata": {},
   "source": [
    "As we can see, our initial guess isn't particularly close to the target energy. Optimizing the study requires the creation of an OptimizationParams object. The most import component of this object is the optimization algorithm to use. OpenFermion-Cirq includes a wrapper around the the `minimize` method of Scipy's `optimize` module and more optimizers will be included in the future. Let's perform an optimization using the COBYLA method. Since this is just an example, we will set the maximum number of function evaluations to 100 so that it doesn't run too long."
   ]
  },
  {
   "cell_type": "code",
   "execution_count": 3,
   "metadata": {},
   "outputs": [
    {
     "name": "stdout",
     "output_type": "stream",
     "text": [
      "-0.2697256334414833\n"
     ]
    }
   ],
   "source": [
    "# Perform an optimization run.\n",
    "from openfermioncirq.optimization import ScipyOptimizationAlgorithm, OptimizationParams\n",
    "algorithm = ScipyOptimizationAlgorithm(\n",
    "    kwargs={'method': 'COBYLA'},\n",
    "    options={'maxiter': 100},\n",
    "    uses_bounds=False)\n",
    "optimization_params = OptimizationParams(\n",
    "    algorithm=algorithm,\n",
    "    initial_guess=study.default_initial_params())\n",
    "result = study.optimize(optimization_params)\n",
    "print(result.optimal_value)"
   ]
  },
  {
   "cell_type": "markdown",
   "metadata": {},
   "source": [
    "In practice, the expectation value of the Hamiltonian cannot be measured exactly due to errors from finite sampling. This manifests as an error, or noise, in the measured value of the energy which can be reduced at the cost of more measurements. The HamiltonianVariationalStudy class incorporates a realistic model of this noise (shot-noise). The OptimizationParams object can have a `cost_of_evaluate` parameter which in this case represents the number of measurements used to estimate the energy for a set of parameters. If we are interested in how well an optimizer performs in the presence of noise, then we may want to repeat the optimization several times and see how the results vary between repetitions.\n",
    "\n",
    "Below, we will perform the same optimization, but this time using the noise model. We will allow one million measurements per energy evaluation and repeat the optimization three times. Since this time the function evaluations are noisy, we'll also indicate that the final parameters of the study should be reevaluated according to a noiseless simulation. Finally, we'll print out a summary of the study, which includes all results obtained so far (including from the previous cell)."
   ]
  },
  {
   "cell_type": "code",
   "execution_count": 5,
   "metadata": {},
   "outputs": [
    {
     "name": "stdout",
     "output_type": "stream",
     "text": [
      "This study contains 2 results.\n",
      "The optimal value found among all results is -0.2697256334414833.\n",
      "It was found by the run with identifier 0.\n",
      "Result details:\n",
      "    Identifier: 0\n",
      "        Optimal value: -0.2697256334414833\n",
      "        Number of repetitions: 1\n",
      "        Optimal value 1st, 2nd, 3rd quartiles:\n",
      "            [-0.2697256334414833, -0.2697256334414833, -0.2697256334414833]\n",
      "        Num evaluations 1st, 2nd, 3rd quartiles:\n",
      "            [100.0, 100.0, 100.0]\n",
      "        Cost spent 1st, 2nd, 3rd quartiles:\n",
      "            [0.0, 0.0, 0.0]\n",
      "    Identifier: COBYLA with maxiter=100, noisy\n",
      "        Optimal value: -0.2686537961624912\n",
      "        Number of repetitions: 3\n",
      "        Optimal value 1st, 2nd, 3rd quartiles:\n",
      "            [-0.26818290989782767, -0.26771202363316415, -0.26747783516586965]\n",
      "        Num evaluations 1st, 2nd, 3rd quartiles:\n",
      "            [100.0, 100.0, 100.0]\n",
      "        Cost spent 1st, 2nd, 3rd quartiles:\n",
      "            [100000000.0, 100000000.0, 100000000.0]\n"
     ]
    }
   ],
   "source": [
    "optimization_params = OptimizationParams(\n",
    "    algorithm=algorithm,\n",
    "    initial_guess=study.default_initial_params(),\n",
    "    cost_of_evaluate=1e6)\n",
    "study.optimize(\n",
    "    optimization_params,\n",
    "    identifier='COBYLA with maxiter=100, noisy',\n",
    "    repetitions=3,\n",
    "    reevaluate_final_params=True,\n",
    "    use_multiprocessing=True)\n",
    "print(study.summary)"
   ]
  },
  {
   "cell_type": "markdown",
   "metadata": {},
   "source": [
    "We see then that in the noisy study the optimizer fails to converge to the final result with high enough accuracy. Apparently then one needs more measurements, a more stable optimizer, or both!"
   ]
  }
 ],
 "metadata": {
  "kernelspec": {
   "display_name": "Python 3",
   "language": "python",
   "name": "python3"
  },
  "language_info": {
   "codemirror_mode": {
    "name": "ipython",
    "version": 3
   },
   "file_extension": ".py",
   "mimetype": "text/x-python",
   "name": "python",
   "nbconvert_exporter": "python",
   "pygments_lexer": "ipython3",
   "version": "3.5.5"
  }
 },
 "nbformat": 4,
 "nbformat_minor": 2
}
