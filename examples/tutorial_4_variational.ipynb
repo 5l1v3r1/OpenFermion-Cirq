{
 "cells": [
  {
   "cell_type": "markdown",
   "metadata": {},
   "source": [
    "# Tutorial 4: Variational algorithms"
   ]
  },
  {
   "cell_type": "markdown",
   "metadata": {},
   "source": [
    "A variational quantum algorithm attempts to find the minimum value of a function\n",
    "\n",
    "$$\\min_{\\vec{\\theta}} f(\\lvert \\vec{\\theta} \\rangle)$$\n",
    "\n",
    "of a parameterized quantum state. In the context of quantum algorithms for quantum chemistry, the function of interest is usually the expectation value of a Hamiltonian and the parameterized state is the result of applying a parameterized circuit, also called a variational ansatz, to an easy-to-prepare reference state. The minimum value of the function is used as an approximation to the ground energy $E_0$ of the Hamiltonian $H$:\n",
    "\n",
    "$$\n",
    "E_0 \\approx \\min_{\\vec{\\theta}} \\langle \\psi_{\\text{ref}} \\rvert\n",
    "U^\\dagger(\\vec{\\theta}) H U(\\vec{\\theta})\n",
    "\\lvert \\psi_{\\text{ref}}\\rangle\n",
    "$$\n",
    "\n",
    "A classical optimization algorithm can be used to find the $\\vec{\\theta}$ that minimizes the value of the expression.\n",
    "\n",
    "The performance of a variational algorithm depends crucially on the choice of ansatz circuit $U(\\vec{\\theta})$. One possibility is to use an ansatz of the form\n",
    "\n",
    "$$\n",
    "U(\\vec{\\theta}) = \\prod_j \\exp(-i \\theta_j H_j)\n",
    "$$\n",
    "\n",
    "where the $H_j$ are terms in a decomposition of $H$ into a sum of terms. OpenFermion-Cirq contains ansatzes of this form which use as templates the linear-depth Trotter step algorithms implemented in the `trotter` module.\n",
    "\n",
    "In this tutorial we will demonstrate the construction and optimization of a variational ansatz for a jellium Hamiltonian. We will use an ansatz based on the `LINEAR_SWAP_NETWORK` Trotter step, which takes as input a DiagonalCoulombHamiltonian."
   ]
  },
  {
   "cell_type": "code",
   "execution_count": 1,
   "metadata": {
    "scrolled": false
   },
   "outputs": [
    {
     "name": "stdout",
     "output_type": "stream",
     "text": [
      "The ground energy of the jellium Hamiltonian at 3 electrons is -0.6282231072680206\n",
      "Created a variational ansatz with the following circuit:\n",
      "0    1         2      3\n",
      "│    │         │      │\n",
      "XXYY─XXYY^T0_1 XXYY───XXYY^T2_3\n",
      "│    │         │      │\n",
      "@────@^V0_1    @──────@^V2_3\n",
      "│    │         │      │\n",
      "×ᶠ───×ᶠ        ×ᶠ─────×ᶠ\n",
      "│    │         │      │\n",
      "│    @─────────@^V0_3 │\n",
      "│    │         │      │\n",
      "│    ×ᶠ────────×ᶠ     │\n",
      "│    │         │      │\n",
      "XXYY─XXYY^T1_3 XXYY───XXYY^T0_2\n",
      "│    │         │      │\n",
      "@────@^V1_3    @──────@^V0_2\n",
      "│    │         │      │\n",
      "×ᶠ───×ᶠ        ×ᶠ─────×ᶠ\n",
      "│    │         │      │\n",
      "Z^U3 @─────────@^V1_2 Z^U0\n",
      "│    │         │      │\n",
      "│    ×ᶠ────────×ᶠ     │\n",
      "│    │         │      │\n",
      "│    Z^U2      Z^U1   │\n",
      "│    │         │      │\n",
      "│    @─────────@^V1_2 │\n",
      "│    │         │      │\n",
      "│    ×ᶠ────────×ᶠ     │\n",
      "│    │         │      │\n",
      "@────@^V1_3    @──────@^V0_2\n",
      "│    │         │      │\n",
      "XXYY─XXYY^T1_3 XXYY───XXYY^T0_2\n",
      "│    │         │      │\n",
      "×ᶠ───×ᶠ        ×ᶠ─────×ᶠ\n",
      "│    │         │      │\n",
      "│    @─────────@^V0_3 │\n",
      "│    │         │      │\n",
      "│    ×ᶠ────────×ᶠ     │\n",
      "│    │         │      │\n",
      "@────@^V0_1    @──────@^V2_3\n",
      "│    │         │      │\n",
      "XXYY─XXYY^T0_1 XXYY───XXYY^T2_3\n",
      "│    │         │      │\n",
      "×ᶠ───×ᶠ        ×ᶠ─────×ᶠ\n",
      "│    │         │      │\n",
      "\n"
     ]
    }
   ],
   "source": [
    "import openfermion\n",
    "import openfermioncirq\n",
    "\n",
    "# Set parameters of jellium model.\n",
    "wigner_seitz_radius = 5. # Radius per electron in Bohr radii.\n",
    "n_dimensions = 2 # Number of spatial dimensions.\n",
    "grid_length = 2 # Number of grid points in each dimension.\n",
    "spinless = True # Whether to include spin degree of freedom or not.\n",
    "n_electrons = 3 # Number of electrons.\n",
    "\n",
    "# Figure out length scale based on Wigner-Seitz radius and construct a basis grid.\n",
    "length_scale = openfermion.hamiltonians.wigner_seitz_length_scale(\n",
    "    wigner_seitz_radius, n_electrons, n_dimensions)\n",
    "grid = openfermion.Grid(n_dimensions, grid_length, length_scale)\n",
    "\n",
    "# Initialize the model and compute its ground energy in the correct particle number manifold\n",
    "fermion_hamiltonian = openfermion.jellium_model(grid, spinless=spinless, plane_wave=False)\n",
    "hamiltonian_sparse = openfermion.get_sparse_operator(fermion_hamiltonian)\n",
    "ground_energy, _ = openfermion.jw_get_ground_state_at_particle_number(\n",
    "    hamiltonian_sparse, n_electrons)\n",
    "print('The ground energy of the jellium Hamiltonian at {} electrons is {}'.format(\n",
    "    n_electrons, ground_energy))\n",
    "\n",
    "# Convert to DiagonalCoulombHamiltonian type.\n",
    "hamiltonian = openfermion.get_diagonal_coulomb_hamiltonian(fermion_hamiltonian)\n",
    "\n",
    "# Create a swap network Trotter ansatz\n",
    "iterations = 1  # This is the number of Trotter steps to use as a template\n",
    "ansatz = openfermioncirq.SwapNetworkTrotterAnsatz(\n",
    "    hamiltonian,\n",
    "    iterations=iterations)\n",
    "\n",
    "print('Created a variational ansatz with the following circuit:')\n",
    "print(ansatz.circuit.to_text_diagram(transpose=True))"
   ]
  },
  {
   "cell_type": "markdown",
   "metadata": {},
   "source": [
    "Optimizing an ansatz requires the creation of a VariationalStudy object. A VariationalStudy encapsulates the evaluation of the objective function and stores the results of optimizations. It also includes an optional state preparation circuit to be applied prior to the ansatz circuit. For this example, we will prepare the initial state as an eigenstate of the one-body operator of the Hamiltonian. Since the one-body operator is a quadratic Hamiltonian, its eigenstates can be prepared using the `prepare_gaussian_state` method. We will use the HamiltonianVariationalStudy class, which stores a Hamiltonian and evaluates parameters by simulating the corresponding quantum circuit and computing the expectation value of the Hamiltonian on the final state. The SwapNetworkTrotterAnsatz class also includes a default setting of parameters which is inspired by the idea of state preparation by adiabatic evolution. In this case, it turns out that the default initial parameters give the ground energy to numerical precision."
   ]
  },
  {
   "cell_type": "code",
   "execution_count": 2,
   "metadata": {
    "scrolled": false
   },
   "outputs": [
    {
     "name": "stdout",
     "output_type": "stream",
     "text": [
      "Created a variational study with 4 qubits and 14 parameters\n",
      "The value of the default initial parameters is -0.6282231427722189\n",
      "The circuit of the study is\n",
      "0    1         2        3\n",
      "│    │         │        │\n",
      "X    X         X        │\n",
      "│    │         │        │\n",
      "│    │         YXXY─────#2^-0.667\n",
      "│    │         │        │\n",
      "│    YXXY──────#2^0.608 Z^0.0\n",
      "│    │         │        │\n",
      "YXXY─#2^-0.5   Z^0.0    │\n",
      "│    │         │        │\n",
      "│    Z^0.0     │        │\n",
      "│    │         │        │\n",
      "XXYY─XXYY^T0_1 XXYY─────XXYY^T2_3\n",
      "│    │         │        │\n",
      "@────@^V0_1    @────────@^V2_3\n",
      "│    │         │        │\n",
      "×ᶠ───×ᶠ        ×ᶠ───────×ᶠ\n",
      "│    │         │        │\n",
      "│    @─────────@^V0_3   │\n",
      "│    │         │        │\n",
      "│    ×ᶠ────────×ᶠ       │\n",
      "│    │         │        │\n",
      "XXYY─XXYY^T1_3 XXYY─────XXYY^T0_2\n",
      "│    │         │        │\n",
      "@────@^V1_3    @────────@^V0_2\n",
      "│    │         │        │\n",
      "×ᶠ───×ᶠ        ×ᶠ───────×ᶠ\n",
      "│    │         │        │\n",
      "Z^U3 @─────────@^V1_2   Z^U0\n",
      "│    │         │        │\n",
      "│    ×ᶠ────────×ᶠ       │\n",
      "│    │         │        │\n",
      "│    Z^U2      Z^U1     │\n",
      "│    │         │        │\n",
      "│    @─────────@^V1_2   │\n",
      "│    │         │        │\n",
      "│    ×ᶠ────────×ᶠ       │\n",
      "│    │         │        │\n",
      "@────@^V1_3    @────────@^V0_2\n",
      "│    │         │        │\n",
      "XXYY─XXYY^T1_3 XXYY─────XXYY^T0_2\n",
      "│    │         │        │\n",
      "×ᶠ───×ᶠ        ×ᶠ───────×ᶠ\n",
      "│    │         │        │\n",
      "│    @─────────@^V0_3   │\n",
      "│    │         │        │\n",
      "│    ×ᶠ────────×ᶠ       │\n",
      "│    │         │        │\n",
      "@────@^V0_1    @────────@^V2_3\n",
      "│    │         │        │\n",
      "XXYY─XXYY^T0_1 XXYY─────XXYY^T2_3\n",
      "│    │         │        │\n",
      "×ᶠ───×ᶠ        ×ᶠ───────×ᶠ\n",
      "│    │         │        │\n",
      "\n"
     ]
    }
   ],
   "source": [
    "# Use preparation circuit for mean-field state\n",
    "import cirq\n",
    "preparation_circuit = cirq.Circuit.from_ops(\n",
    "    openfermioncirq.prepare_gaussian_state(\n",
    "        ansatz.qubits,\n",
    "        openfermion.QuadraticHamiltonian(hamiltonian.one_body),\n",
    "        occupied_orbitals=range(n_electrons)))\n",
    "\n",
    "# Create a Hamiltonian variational study\n",
    "study = openfermioncirq.HamiltonianVariationalStudy(\n",
    "    'jellium_study',\n",
    "    ansatz,\n",
    "    hamiltonian=hamiltonian,\n",
    "    preparation_circuit=preparation_circuit)\n",
    "\n",
    "print(\"Created a variational study with {} qubits and {} parameters\".format(\n",
    "    len(study.ansatz.qubits), study.num_params))\n",
    "print(\"The value of the default initial parameters is {}\".format(\n",
    "    study.evaluate(study.default_initial_params())))\n",
    "print(\"The circuit of the study is\")\n",
    "print(study.circuit.to_text_diagram(transpose=True))"
   ]
  },
  {
   "cell_type": "markdown",
   "metadata": {},
   "source": [
    "Even though the default parameters of our ansatz are already optimal, we will neverthless demonstrate how one would optimize the study. Optimizing the study requires the creation of an OptimizationParams object. The most import component of this object is the optimization algorithm to use. OpenFermion-Cirq includes a wrapper around the the `minimize` method of Scipy's `optimize` module and more optimizers will be included in the future. Let's perform an optimization using the COBYLA method. Since this is just an example, we will set the maximum number of function evaluations to 20 so that it doesn't run too long."
   ]
  },
  {
   "cell_type": "code",
   "execution_count": 3,
   "metadata": {},
   "outputs": [
    {
     "name": "stdout",
     "output_type": "stream",
     "text": [
      "-0.6282231427722189\n"
     ]
    }
   ],
   "source": [
    "# Perform an optimization run\n",
    "from openfermioncirq.optimization import ScipyOptimizationAlgorithm, OptimizationParams\n",
    "algorithm = ScipyOptimizationAlgorithm(\n",
    "    kwargs={'method': 'COBYLA'},\n",
    "    options={'maxiter': 20},\n",
    "    uses_bounds=False)\n",
    "optimization_params = OptimizationParams(\n",
    "    algorithm=algorithm,\n",
    "    initial_guess=study.default_initial_params())\n",
    "result = study.optimize(optimization_params)\n",
    "print(result.optimal_value)"
   ]
  },
  {
   "cell_type": "markdown",
   "metadata": {},
   "source": [
    "In practice, the expectation value of the Hamiltonian cannot be measured exactly due to errors from finite sampling. This manifests as an error, or noise, in the measured value of the energy which can be reduced at the cost of more measurements. The HamiltonianVariationalStudy class incorporates a realistic model of this noise. The OptimizationParams object can have a `cost_of_evaluate` parameter which in this case represents the number of measurements used to estimate the energy for a set of parameters. If we are interested in how well an optimizer performs in the presence of noise, then we may want to repeat the optimization several times and see how the results vary between repetitions.\n",
    "\n",
    "Below, we will perform the same optimization as above, but this time using the noise model. We will allow 10 million measurements per energy evaluation and repeat the optimization twice. Since this time the function evaluations are noisy, we'll also indicate that the final parameters of the study should be reevaluated according to a noiseless simulation. Finally, we'll print out a summary of the study, which includes all results obtained so far (including the one from the previous cell)."
   ]
  },
  {
   "cell_type": "code",
   "execution_count": 4,
   "metadata": {},
   "outputs": [
    {
     "name": "stdout",
     "output_type": "stream",
     "text": [
      "This study contains 2 results.\n",
      "The optimal value found among all results is -0.6282231427722189.\n",
      "It was found by the run with identifier 0.\n",
      "Result details:\n",
      "    Identifier: 0\n",
      "        Optimal value: -0.6282231427722189\n",
      "        Number of repetitions: 1\n",
      "        Optimal value 1st, 2nd, 3rd quartiles:\n",
      "            [-0.6282231427722189, -0.6282231427722189, -0.6282231427722189]\n",
      "        Num evaluations 1st, 2nd, 3rd quartiles:\n",
      "            [20.0, 20.0, 20.0]\n",
      "        Cost spent 1st, 2nd, 3rd quartiles:\n",
      "            [0.0, 0.0, 0.0]\n",
      "    Identifier: COBYLA with maxiter=30, noisy\n",
      "        Optimal value: -0.6282231006449941\n",
      "        Number of repetitions: 2\n",
      "        Optimal value 1st, 2nd, 3rd quartiles:\n",
      "            [-0.6282230953765199, -0.6282230901080457, -0.6282230848395715]\n",
      "        Num evaluations 1st, 2nd, 3rd quartiles:\n",
      "            [20.0, 20.0, 20.0]\n",
      "        Cost spent 1st, 2nd, 3rd quartiles:\n",
      "            [200000000.0, 200000000.0, 200000000.0]\n"
     ]
    }
   ],
   "source": [
    "optimization_params = OptimizationParams(\n",
    "    algorithm=algorithm,\n",
    "    initial_guess=study.default_initial_params(),\n",
    "    cost_of_evaluate=1e7)\n",
    "study.optimize(\n",
    "    optimization_params,\n",
    "    identifier='COBYLA with maxiter=30, noisy',\n",
    "    repetitions=2,\n",
    "    reevaluate_final_params=True,\n",
    "    use_multiprocessing=True)\n",
    "print(study.summary)"
   ]
  }
 ],
 "metadata": {
  "kernelspec": {
   "display_name": "Python 3",
   "language": "python",
   "name": "python3"
  },
  "language_info": {
   "codemirror_mode": {
    "name": "ipython",
    "version": 3
   },
   "file_extension": ".py",
   "mimetype": "text/x-python",
   "name": "python",
   "nbconvert_exporter": "python",
   "pygments_lexer": "ipython3",
   "version": "3.6.5"
  }
 },
 "nbformat": 4,
 "nbformat_minor": 2
}
